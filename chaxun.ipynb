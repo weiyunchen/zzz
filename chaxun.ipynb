{
 "cells": [
  {
   "cell_type": "code",
   "execution_count": 2,
   "metadata": {
    "_kg_hide-input": true,
    "_kg_hide-output": true
   },
   "outputs": [
    {
     "name": "stdout",
     "output_type": "stream",
     "text": [
      "文件 “data.xlsx” 已经存在；不获取。\n",
      "\n",
      "Requirement already satisfied: xlrd in ./anaconda3/lib/python3.6/site-packages (1.2.0)\n"
     ]
    }
   ],
   "source": [
    "import warnings\n",
    "warnings.filterwarnings('ignore')\n",
    "!wget -nc https://github.com/weiyunchen/code1/raw/master/data.xlsx\n",
    "! pip install xlrd\n",
    "import numpy as np\n",
    "import pandas as pd\n",
    "from IPython.display import display\n",
    "from ipywidgets import interact\n",
    "# 载入数据\n",
    "df = pd.read_excel('data.xlsx',encoding='gbk',sheetname=4)\n",
    "df0 = pd.read_excel('data.xlsx',encoding='gbk',sheetname=0)\n",
    "df1 = pd.read_excel('data.xlsx',encoding='gbk',sheetname=1)\n",
    "df2 = pd.read_excel('data.xlsx',encoding='gbk',sheetname=2)\n",
    "df3 = pd.read_excel('data.xlsx',encoding='gbk',sheetname=3)\n",
    "# 数据合并\n",
    "dff = pd.concat([df0,df1,df2,df3])\n",
    "# 数据预处理\n",
    "dff[\"tube_name\"] = dff[\"city\"] + dff[\"tube_name\"]\n",
    "dff.drop(labels=['city'],axis=1,inplace=True)\n",
    "# 数据合并\n",
    "data1 = pd.merge(df,dff,on=\"tube_name\")\n",
    "                \n",
    "data1.rename(columns={'租金中位数（元/月）':'area_price_level', '居住便利度':'convenience', 'tube_distance（m）':'tube_distance'},inplace = True)\n",
    "#显示所有列\n",
    "pd.set_option('display.max_columns', None)\n",
    "#显示所有行\n",
    "pd.set_option('display.max_rows', None)\n",
    "#设置value的显示长度为50\n",
    "pd.set_option('max_colwidth',50)\n",
    "\n",
    "def f1(最低价,最高价):\n",
    "    return data1[(data1['rent_room']>=最低价)&(data1['rent_room']<=最高价)]"
   ]
  },
  {
   "cell_type": "code",
   "execution_count": 3,
   "metadata": {},
   "outputs": [
    {
     "name": "stdout",
     "output_type": "stream",
     "text": [
      "请输入最低价\n",
      "2000\n",
      "请输入最高价\n",
      "2100\n"
     ]
    },
    {
     "data": {
      "application/vnd.jupyter.widget-view+json": {
       "model_id": "cefc336775524d02b3f68894385222e8",
       "version_major": 2,
       "version_minor": 0
      },
      "text/plain": [
       "interactive(children=(IntSlider(value=2000, description='最低价', max=6000, min=-2000), IntSlider(value=2100, des…"
      ]
     },
     "metadata": {},
     "output_type": "display_data"
    },
    {
     "data": {
      "text/plain": [
       "<function __main__.f1(最低价, 最高价)>"
      ]
     },
     "execution_count": 3,
     "metadata": {},
     "output_type": "execute_result"
    }
   ],
   "source": [
    "a=input(\"请输入最低价\\n\")\n",
    "b=input(\"请输入最高价\\n\")\n",
    "a=int(a)\n",
    "b=int(b)\n",
    "interact(f1,最低价=a,最高价=b)"
   ]
  },
  {
   "cell_type": "code",
   "execution_count": null,
   "metadata": {},
   "outputs": [],
   "source": []
  }
 ],
 "metadata": {
  "hide_input": false,
  "kernelspec": {
   "display_name": "Python 3",
   "language": "python",
   "name": "python3"
  },
  "language_info": {
   "codemirror_mode": {
    "name": "ipython",
    "version": 3
   },
   "file_extension": ".py",
   "mimetype": "text/x-python",
   "name": "python",
   "nbconvert_exporter": "python",
   "pygments_lexer": "ipython3",
   "version": "3.6.6"
  },
  "toc": {
   "base_numbering": 1,
   "nav_menu": {},
   "number_sections": true,
   "sideBar": true,
   "skip_h1_title": false,
   "title_cell": "Table of Contents",
   "title_sidebar": "Contents",
   "toc_cell": false,
   "toc_position": {},
   "toc_section_display": true,
   "toc_window_display": false
  },
  "varInspector": {
   "cols": {
    "lenName": 16,
    "lenType": 16,
    "lenVar": 40
   },
   "kernels_config": {
    "python": {
     "delete_cmd_postfix": "",
     "delete_cmd_prefix": "del ",
     "library": "var_list.py",
     "varRefreshCmd": "print(var_dic_list())"
    },
    "r": {
     "delete_cmd_postfix": ") ",
     "delete_cmd_prefix": "rm(",
     "library": "var_list.r",
     "varRefreshCmd": "cat(var_dic_list()) "
    }
   },
   "types_to_exclude": [
    "module",
    "function",
    "builtin_function_or_method",
    "instance",
    "_Feature"
   ],
   "window_display": false
  }
 },
 "nbformat": 4,
 "nbformat_minor": 1
}
